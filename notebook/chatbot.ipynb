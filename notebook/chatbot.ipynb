{
 "cells": [
  {
   "cell_type": "code",
   "execution_count": 1,
   "id": "6c6ee712",
   "metadata": {},
   "outputs": [],
   "source": [
    "import os"
   ]
  },
  {
   "cell_type": "code",
   "execution_count": 2,
   "id": "2919ecb8",
   "metadata": {},
   "outputs": [
    {
     "name": "stdout",
     "output_type": "stream",
     "text": [
      "You're thinking of Laika!\n",
      "\n",
      "Laika, also known as Kudryavka or Little Curly, was a Soviet space dog who became the first living being to orbit the Earth on November 3, 1957. She was launched on the Sputnik 2 spacecraft, which was designed to test the safety and feasibility of space travel for living organisms.\n",
      "\n",
      "Laika, a stray dog from Moscow, was chosen for the mission due to her small size and calm temperament. Unfortunately, Laika did not survive the flight, as the technology at the time did not allow for her to be safely returned to Earth. However, her pioneering mission paved the way for future human spaceflight and animal research in space.\n",
      "\n",
      "Laika's legacy continues to inspire space exploration and research, and she remains an iconic symbol of the early space age.\n"
     ]
    }
   ],
   "source": [
    "\n",
    "from langchain_groq import ChatGroq\n",
    "\n",
    "llm = ChatGroq(\n",
    "    model=\"llama3-70b-8192\",\n",
    "    groq_api_key = os.getenv(\"GROQ_API_KEY\"),\n",
    "    temperature=0,\n",
    "    max_tokens=None,\n",
    "    timeout=None,\n",
    "    max_retries=2\n",
    ")\n",
    "\n",
    "response = llm.invoke(\"The first dog on the space was...\")\n",
    "print(response.content)"
   ]
  },
  {
   "cell_type": "markdown",
   "id": "c5ede028",
   "metadata": {},
   "source": [
    "## Loading pdf and text data"
   ]
  },
  {
   "cell_type": "code",
   "execution_count": 3,
   "id": "7c450778",
   "metadata": {},
   "outputs": [],
   "source": [
    "from langchain_community.document_loaders import PyPDFLoader, TextLoader"
   ]
  },
  {
   "cell_type": "code",
   "execution_count": 4,
   "id": "4b6c3a19",
   "metadata": {},
   "outputs": [],
   "source": [
    "\n",
    "pdf_path = \"../data/python_notes.pdf\"\n",
    "if not os.path.isfile(pdf_path):\n",
    "\tprint(f\"File not found: {pdf_path}. Please check the path or provide a valid PDF file.\")\n",
    "else:\n",
    "\tpdf_loader = PyPDFLoader(pdf_path)\n",
    "\n",
    "pdf_docs = pdf_loader.load()"
   ]
  },
  {
   "cell_type": "code",
   "execution_count": 5,
   "id": "c9b8c5a0",
   "metadata": {},
   "outputs": [
    {
     "data": {
      "text/plain": [
       "'PYTHON PROGRAMMING                                      III YEAR/II SEM                  MRCET \\n137 \\n \\n<function read at 0x03BD1070> \\n>>> read() \\nDepartment \\n>>> from IIYEAR.CSE.student import write \\n>>> write() \\nStudent \\n# Write a program to create and import module? \\ndef add(a=4,b=6): \\n    c=a+b \\n    return c \\nOutput: \\nC:\\\\Users\\\\MRCET\\\\AppData\\\\Local\\\\Programs\\\\Python\\\\Python38-32\\\\IIYEAR\\\\modu1.py \\n>>> from IIYEAR import modu1 \\n>>> modu1.add() \\n10 \\n# Write a program to create and rename the existing module. \\n \\ndef a(): \\n    print(\"hello world\") \\na() \\nOutput: \\nC:/Users/MRCET/AppData/Local/Programs/Python/Python38-32/IIYEAR/exam.py \\nhello world \\n>>> import exam as ex \\nhello world'"
      ]
     },
     "execution_count": 5,
     "metadata": {},
     "output_type": "execute_result"
    }
   ],
   "source": [
    "pdf_docs.pop().page_content"
   ]
  },
  {
   "cell_type": "code",
   "execution_count": 6,
   "id": "df88ef3c",
   "metadata": {},
   "outputs": [],
   "source": [
    "text_path = \"../data/python_guide.txt\"\n",
    "if not os.path.isfile(text_path):\n",
    "\tprint(f\"File not found: {pdf_path}. Please check the path or provide a valid PDF file.\")\n",
    "else:\n",
    "    text_loader = TextLoader(text_path,encoding = \"utf-8\")\n",
    "\n",
    "text_docs = text_loader.load()"
   ]
  },
  {
   "cell_type": "code",
   "execution_count": 7,
   "id": "6e23892b",
   "metadata": {},
   "outputs": [
    {
     "data": {
      "text/plain": [
       "\"\\n🌟 Python Programming: A Complete Guide\\n\\n🐍 Introduction to Python\\n\\nPython is a high-level, interpreted, general-purpose programming language created by Guido van Rossum and first released in 1991. It's known for its simplicity, readability, and vast standard libraries, which makes it ideal for beginners and professionals alike.\\n\\nPython is widely used in:\\n- Web development (Django, Flask)\\n- Data Science & Machine Learning (Pandas, NumPy, Scikit-learn, TensorFlow)\\n- Automation & Scripting\\n- Software Testing\\n- Game Development (Pygame)\\n- Cybersecurity\\n- Internet of Things (IoT)\\n\\n🗺️ Python Learning Roadmap\\n\\nHere's a step-by-step roadmap to master Python:\\n\\n1. Beginner Level\\n- Syntax and Basics: Variables, data types, operators\\n- Control Structures: if, else, elif, loops (for, while)\\n- Functions: Defining and calling functions, *args, **kwargs\\n- Lists, Tuples, Dictionaries, Sets\\n- String Manipulation\\n- Input/Output Operations\\n- Error Handling: try, except, finally\\n\\n2. Intermediate Level\\n- Object-Oriented Programming (OOP): Classes, objects, inheritance, polymorphism\\n- File Handling: Reading/writing files\\n- Modules and Packages\\n- Lambda, Map, Filter, Reduce\\n- List Comprehensions and Generator Expressions\\n- Virtual Environments\\n- Working with APIs (Requests library)\\n\\n3. Advanced Level\\n- Decorators and Iterators\\n- Multithreading and Multiprocessing\\n- Regular Expressions\\n- Unit Testing (unittest, pytest)\\n- Database Connectivity (SQLite, PostgreSQL with psycopg2)\\n- Web Scraping (BeautifulSoup, Selenium)\\n- Working with JSON and CSV\\n\\n4. Specialization Paths\\nChoose a direction based on your interest:\\n- Web Development: Flask, Django, FastAPI\\n- Data Science & ML: NumPy, Pandas, Matplotlib, Scikit-learn, TensorFlow\\n- Automation: Selenium, PyAutoGUI\\n- DevOps & Scripting: Bash with Python, Cron Jobs\\n- Game Development: Pygame\\n\\n🧠 How to Learn Python Effectively\\n\\n🔁 1. Follow the 80/20 Rule\\nSpend 20% of the time learning theory and 80% doing projects and exercises.\\n\\n🧱 2. Use Online Platforms\\n- Interactive: freeCodeCamp, Codecademy\\n- Video Courses: YouTube, Udemy, Coursera\\n- Documentation: Official Python Docs\\n\\n💡 3. Work on Projects\\nStart with small projects like:\\n- Calculator\\n- To-Do List\\n- Weather App\\n- Budget Tracker\\n- Chatbot\\n\\nThen move to intermediate:\\n- Web scraper\\n- Flask Blog\\n- Telegram Bot\\n- Expense Tracker with SQLite\\n\\n🧪 4. Solve Coding Challenges\\nUse platforms like:\\n- LeetCode\\n- HackerRank\\n- Codewars\\n- Exercism\\n\\n🗓️ Suggested Python Learning Routine (For 3 Months)\\n\\n🔰 Month 1: Foundations (1–2 hrs/day)\\n- Week 1: Syntax, variables, data types\\n- Week 2: Loops, conditionals, functions\\n- Week 3: Data structures (lists, tuples, dicts, sets)\\n- Week 4: Modules, file handling, error handling\\n\\nProject: Simple calculator or quiz app\\n\\n⚙️ Month 2: Intermediate Concepts (2 hrs/day)\\n- Week 1: OOP, inheritance, encapsulation\\n- Week 2: Lambda, filter, map, comprehensions\\n- Week 3: API requests, JSON, regular expressions\\n- Week 4: Web scraping, working with CSVs\\n\\nProject: Movie search app using TMDB API\\n\\n🚀 Month 3: Real-World Projects + Specialization (2–3 hrs/day)\\n- Week 1–2: Web development (Flask/Django) OR Data Science\\n- Week 3: Build an end-to-end project\\n- Week 4: Polish project, upload to GitHub\\n\\nFinal Project: Web app, ML model, or automation script\\n\\n❓ Top Python Interview Questions\\n\\nBasic-Level\\n1. What are Python's key features?\\n2. Difference between list and tuple?\\n3. What are *args and **kwargs?\\n4. Explain Python’s memory management.\\n5. How is Python interpreted?\\n\\nIntermediate-Level\\n6. Difference between is and ==?\\n7. What is the use of self in a class?\\n8. Explain the Global Interpreter Lock (GIL).\\n9. What is a Python decorator?\\n10. What are list comprehensions?\\n\\nAdvanced-Level\\n11. How does garbage collection work in Python?\\n12. What are generators and yield statements?\\n13. What’s the difference between threading and multiprocessing?\\n14. How does Python handle multithreading?\\n15. How do you manage packages in Python?\\n\\nScenario-Based\\n16. How would you reverse a list in Python?\\n17. How can you improve performance in a large data processing task?\\n18. How to manage dependencies in a Python project?\\n19. How to secure a Flask app?\\n20. What happens when you import a module in Python?\\n\\n💼 Building a Python Portfolio\\n\\nYour portfolio is key to getting hired. Include:\\n- 3–5 well-documented GitHub projects\\n- README files with explanation\\n- Optional: Blog posts explaining your work\\n\\nSuggested Projects\\n- Expense Tracker (Flask + SQLite)\\n- Web Scraper (BeautifulSoup + Pandas)\\n- Machine Learning Model (Jupyter + Scikit-learn)\\n- Telegram Bot (Telepot + Python)\\n- REST API (FastAPI + SQLAlchemy)\\n\\n📚 Best Resources\\n\\n🎥 YouTube Channels\\n- Corey Schafer\\n- Tech With Tim\\n- Programming with Mosh\\n- BroCode\\n\\n📘 Books\\n- Python Crash Course – Eric Matthes\\n- Automate the Boring Stuff – Al Sweigart\\n- Fluent Python – Luciano Ramalho\\n\\n🛠 Tools to Use\\n- IDEs: VSCode, PyCharm, Jupyter Notebook\\n- Version Control: Git + GitHub\\n- Linter: flake8, pylint\\n- Formatter: Black\\n- Dependency Management: pip, venv, poetry\\n\\n🧭 Tips for Staying on Track\\n- Set weekly goals\\n- Use a habit tracker or calendar\\n- Join communities: Reddit r/learnpython, Discord, or Python Slack groups\\n- Teach others: Write blog posts or share tips on LinkedIn\\n- Don’t skip projects — theory alone won’t get you hired\\n\\n🧩 Conclusion\\n\\nPython is more than just a programming language—it's a versatile tool that opens doors in various domains like automation, web development, data science, and machine learning. Whether you're aiming for a career as a software developer or a data analyst, mastering Python can be your first big step.\\n\\nTo succeed:\\n- Follow the roadmap\\n- Practice consistently\\n- Work on projects\\n- Engage with the community\\n\\nStart slow, stay consistent, and you’ll see tremendous growth. Happy coding!\\n\""
      ]
     },
     "execution_count": 7,
     "metadata": {},
     "output_type": "execute_result"
    }
   ],
   "source": [
    "text_docs.pop().page_content"
   ]
  },
  {
   "cell_type": "code",
   "execution_count": 8,
   "id": "3b84976a",
   "metadata": {},
   "outputs": [],
   "source": [
    "all_docs = pdf_docs + text_docs"
   ]
  },
  {
   "cell_type": "markdown",
   "id": "66d7d54d",
   "metadata": {},
   "source": [
    "## Splitting texts into chunks"
   ]
  },
  {
   "cell_type": "code",
   "execution_count": 9,
   "id": "220b297c",
   "metadata": {},
   "outputs": [],
   "source": [
    "from langchain.text_splitter import RecursiveCharacterTextSplitter"
   ]
  },
  {
   "cell_type": "code",
   "execution_count": 10,
   "id": "3ea711c6",
   "metadata": {},
   "outputs": [],
   "source": [
    "splitter = RecursiveCharacterTextSplitter(\n",
    "    chunk_size=1000,\n",
    "    chunk_overlap=200\n",
    ")"
   ]
  },
  {
   "cell_type": "code",
   "execution_count": 11,
   "id": "fe15aeb9",
   "metadata": {},
   "outputs": [],
   "source": [
    "docs = splitter.split_documents(all_docs)"
   ]
  },
  {
   "cell_type": "markdown",
   "id": "b615720e",
   "metadata": {},
   "source": [
    "## Embeddings and Vector Store"
   ]
  },
  {
   "cell_type": "code",
   "execution_count": 12,
   "id": "ae592455",
   "metadata": {},
   "outputs": [],
   "source": [
    "from langchain.embeddings import HuggingFaceEmbeddings\n",
    "from langchain_community.vectorstores import Chroma"
   ]
  },
  {
   "cell_type": "code",
   "execution_count": 13,
   "id": "b95f004a",
   "metadata": {},
   "outputs": [
    {
     "name": "stderr",
     "output_type": "stream",
     "text": [
      "C:\\Users\\Pralo\\AppData\\Local\\Temp\\ipykernel_332\\914705057.py:1: LangChainDeprecationWarning: The class `HuggingFaceEmbeddings` was deprecated in LangChain 0.2.2 and will be removed in 1.0. An updated version of the class exists in the :class:`~langchain-huggingface package and should be used instead. To use it run `pip install -U :class:`~langchain-huggingface` and import as `from :class:`~langchain_huggingface import HuggingFaceEmbeddings``.\n",
      "  embedding = HuggingFaceEmbeddings(\n",
      "c:\\Users\\Pralo\\anaconda3\\envs\\chatbot-CloudLLM\\Lib\\site-packages\\tqdm\\auto.py:21: TqdmWarning: IProgress not found. Please update jupyter and ipywidgets. See https://ipywidgets.readthedocs.io/en/stable/user_install.html\n",
      "  from .autonotebook import tqdm as notebook_tqdm\n"
     ]
    }
   ],
   "source": [
    "embedding = HuggingFaceEmbeddings(\n",
    "    model_name=\"sentence-transformers/all-MiniLM-L6-v2\"\n",
    ")"
   ]
  },
  {
   "cell_type": "code",
   "execution_count": 17,
   "id": "6a072d01",
   "metadata": {},
   "outputs": [],
   "source": [
    "persist_directory = \"./chroma_db\"\n",
    "\n",
    "vector_store = Chroma.from_documents(\n",
    "    documents=docs,\n",
    "    embedding=embedding,\n",
    "    persist_directory=persist_directory\n",
    ")\n",
    "vector_store.persist()\n",
    "\n",
    "# Create a retriever to search relevant chunks\n",
    "retriever = vector_store.as_retriever(search_kwargs={\"k\": 4})"
   ]
  },
  {
   "cell_type": "markdown",
   "id": "e0b03b9e",
   "metadata": {},
   "source": [
    "## Contextualized Retriever Chain (History-Aware)"
   ]
  },
  {
   "cell_type": "code",
   "execution_count": 15,
   "id": "9dcc6830",
   "metadata": {},
   "outputs": [],
   "source": [
    "from langchain.chains import create_history_aware_retriever\n",
    "from langchain_core.prompts import ChatPromptTemplate, MessagesPlaceholder"
   ]
  },
  {
   "cell_type": "code",
   "execution_count": 18,
   "id": "0a3bdccc",
   "metadata": {},
   "outputs": [],
   "source": [
    "# Prompt to help convert follow-up questions into standalone questions\n",
    "contextualize_q_system_prompt = (\n",
    "    \"Given a chat history and the latest user question \"\n",
    "    \"which might reference context in the chat history, \"\n",
    "    \"formulate a standalone question which can be understood \"\n",
    "    \"without the chat history. Do NOT answer the question, \"\n",
    "    \"just reformulate it if needed and otherwise return it as is.\"\n",
    ")"
   ]
  },
  {
   "cell_type": "code",
   "execution_count": 20,
   "id": "df1e3e61",
   "metadata": {},
   "outputs": [],
   "source": [
    "# Define the contextualize_q_prompt using ChatPromptTemplate\n",
    "contextualize_q_prompt = ChatPromptTemplate.from_messages([\n",
    "    (\"system\", contextualize_q_system_prompt),\n",
    "    MessagesPlaceholder(\"chat_history\"),\n",
    "    (\"human\", \"{input}\"),\n",
    "])"
   ]
  },
  {
   "cell_type": "code",
   "execution_count": null,
   "id": "4e612613",
   "metadata": {},
   "outputs": [],
   "source": [
    "# Create retriever that understands prior messages\n",
    "history_aware_retriever = create_history_aware_retriever(\n",
    "    llm=llm,\n",
    "    retriever=retriever,\n",
    "    prompt=contextualize_q_prompt\n",
    ")"
   ]
  },
  {
   "cell_type": "code",
   "execution_count": 22,
   "id": "3d28f914",
   "metadata": {},
   "outputs": [],
   "source": [
    "from langchain.chains.combine_documents import create_stuff_documents_chain"
   ]
  },
  {
   "cell_type": "code",
   "execution_count": 26,
   "id": "9bc21db6",
   "metadata": {},
   "outputs": [],
   "source": [
    "# Main assistant behavior system prompt\n",
    "system_prompt = (\n",
    "    \"\"\"\n",
    "    You are a knowledgeable and helpful assistant capable of answering questions accurately and concisely.\n",
    "    Use the provided context below to guide your responses when relevant:\n",
    "    {context}\n",
    "    For general questions or when the context is not directly applicable, respond naturally and confidently based on your broader knowledge.\n",
    "    If you are unsure or lack the necessary information, acknowledge it politely.\n",
    "    \"\"\"\n",
    ")"
   ]
  },
  {
   "cell_type": "code",
   "execution_count": 24,
   "id": "1d0d20dd",
   "metadata": {},
   "outputs": [],
   "source": [
    "# Prompt for the answer generation stage\n",
    "qa_prompt = ChatPromptTemplate.from_messages([\n",
    "    (\"system\", system_prompt),\n",
    "    MessagesPlaceholder(\"chat_history\"),\n",
    "    (\"human\", \"{input}\")\n",
    "])"
   ]
  },
  {
   "cell_type": "code",
   "execution_count": 27,
   "id": "cec14b1d",
   "metadata": {},
   "outputs": [],
   "source": [
    "# Create a document chain that uses the LLM to generate answers\n",
    "question_answer_chain = create_stuff_documents_chain(\n",
    "    llm=llm,\n",
    "    prompt=qa_prompt\n",
    ")"
   ]
  },
  {
   "cell_type": "markdown",
   "id": "ce4f482f",
   "metadata": {},
   "source": [
    "#### Full Retrieval-Augmented Generation (RAG) Chain"
   ]
  },
  {
   "cell_type": "code",
   "execution_count": 28,
   "id": "9f47379d",
   "metadata": {},
   "outputs": [],
   "source": [
    "from langchain.chains import create_retrieval_chain"
   ]
  },
  {
   "cell_type": "code",
   "execution_count": 31,
   "id": "e8f4e12e",
   "metadata": {},
   "outputs": [],
   "source": [
    "# Combining history-aware retriever with answer generator\n",
    "rag_chain = create_retrieval_chain(\n",
    "    retriever=history_aware_retriever,\n",
    "    combine_docs_chain=question_answer_chain\n",
    ")"
   ]
  },
  {
   "cell_type": "code",
   "execution_count": 36,
   "id": "c7e3ec0b",
   "metadata": {},
   "outputs": [],
   "source": [
    "# Chat history buffer\n",
    "chat_history_buffer = []  # Global list to maintain conversation context"
   ]
  },
  {
   "cell_type": "code",
   "execution_count": 37,
   "id": "9e3d85a7",
   "metadata": {},
   "outputs": [],
   "source": [
    "def query_rag(user_query: str) -> str:\n",
    "    \"\"\"\n",
    "    Function to query the RAG pipeline with only the user input.\n",
    "    Maintains internal chat history to ensure context-aware answers.\n",
    "    \"\"\"\n",
    "    global chat_history_buffer\n",
    "\n",
    "    # Send query to the full RAG chain\n",
    "    response = rag_chain.invoke({\n",
    "        \"input\": user_query,\n",
    "        \"chat_history\": chat_history_buffer\n",
    "    })\n",
    "\n",
    "    # Append to history: user question and AI response\n",
    "    chat_history_buffer.append((\"human\", user_query))\n",
    "    chat_history_buffer.append((\"ai\", response[\"answer\"]))\n",
    "\n",
    "    return response[\"answer\"]"
   ]
  },
  {
   "cell_type": "code",
   "execution_count": 39,
   "id": "2d09c393",
   "metadata": {},
   "outputs": [
    {
     "data": {
      "text/plain": [
       "'Python is a widely used, general-purpose, high-level programming language. It was initially designed by Guido van Rossum in 1991 and developed by the Python Software Foundation. Python was mainly developed for emphasis on code readability, and its syntax allows programmers to express concepts in fewer lines of code. Python is a programming language that lets you work quickly and integrate systems more efficiently.'"
      ]
     },
     "execution_count": 39,
     "metadata": {},
     "output_type": "execute_result"
    }
   ],
   "source": [
    "query_rag(\"What is python?\")"
   ]
  },
  {
   "cell_type": "code",
   "execution_count": 40,
   "id": "856e3466",
   "metadata": {},
   "outputs": [
    {
     "data": {
      "text/plain": [
       "'Here is a suggested 4-week roadmap to learn Python:\\n\\n**Week 1: Foundations (1-2 hours/day)**\\n\\n* Day 1-2: Introduction to Python, Installation, and Setup\\n\\t+ Understand the basics of Python, its history, and features\\n\\t+ Set up Python on your computer, IDE, and text editor\\n* Day 3-4: Variables, Data Types, and Operators\\n\\t+ Learn about variables, data types (int, float, string, list, etc.)\\n\\t+ Understand operators (arithmetic, comparison, logical, assignment, etc.)\\n* Day 5-6: Control Structures (if-else, for loops, while loops)\\n\\t+ Learn about conditional statements (if-else) and loops (for, while)\\n\\t+ Practice exercises and examples\\n* Project: Simple Calculator Program\\n\\n**Week 2: Functions and Data Structures (1-2 hours/day)**\\n\\n* Day 7-8: Functions\\n\\t+ Learn about functions, function arguments, and return types\\n\\t+ Understand how to define and call functions\\n* Day 9-10: Lists and Tuples\\n\\t+ Learn about lists and tuples, indexing, slicing, and manipulating them\\n\\t+ Practice exercises and examples\\n* Day 11-12: Dictionaries and Sets\\n\\t+ Learn about dictionaries, sets, and their operations\\n\\t+ Practice exercises and examples\\n* Project: To-Do List App\\n\\n**Week 3: File Input/Output and Modules (1-2 hours/day)**\\n\\n* Day 13-14: File Input/Output\\n\\t+ Learn about reading and writing files in Python\\n\\t+ Understand how to work with CSV, JSON, and other file formats\\n* Day 15-16: Modules and Packages\\n\\t+ Learn about built-in modules and packages in Python\\n\\t+ Understand how to import and use modules\\n* Project: Weather App\\n\\n**Week 4: Practice and Review (1-2 hours/day)**\\n\\n* Day 19-20: Review and Practice\\n\\t+ Review all the concepts learned in the past three weeks\\n\\t+ Practice exercises and examples\\n* Day 21-22: Work on a Project\\n\\t+ Choose a project idea (e.g., chatbot, game, or web scraper)\\n\\t+ Implement the project using Python\\n* Day 23-24: Review and Refine\\n\\t+ Review your project and refine it\\n\\t+ Get feedback from others and improve your project\\n\\n**Additional Tips**\\n\\n* Practice regularly and consistently\\n* Use online resources such as tutorials, videos, and documentation\\n* Join online communities and forums for support and feedback\\n* Work on projects that interest you and challenge yourself\\n* Review and refine your code regularly\\n\\nRemember, this is just a suggested roadmap, and you should adjust it according to your pace and learning style. Good luck!'"
      ]
     },
     "execution_count": 40,
     "metadata": {},
     "output_type": "execute_result"
    }
   ],
   "source": [
    "query_rag(\"Provide me a detailed roadmap for learning python within 4 weeks\")"
   ]
  },
  {
   "cell_type": "code",
   "execution_count": 41,
   "id": "b8fd0153",
   "metadata": {},
   "outputs": [
    {
     "data": {
      "text/plain": [
       "'Here is a revised 4-week roadmap to learn Python, assuming you already know the foundations:\\n\\n**Week 1: Functions and Data Structures (1-2 hours/day)**\\n\\n* Day 1-2: Functions\\n\\t+ Learn about function arguments, return types, and lambda functions\\n\\t+ Understand how to define and call functions, including recursive functions\\n* Day 3-4: Lists and Tuples\\n\\t+ Learn about list comprehensions, slicing, and indexing\\n\\t+ Understand how to manipulate lists and tuples\\n* Day 5-6: Dictionaries and Sets\\n\\t+ Learn about dictionary comprehensions, dictionary methods, and set operations\\n\\t+ Understand how to work with dictionaries and sets\\n* Project: To-Do List App\\n\\n**Week 2: File Input/Output and Modules (1-2 hours/day)**\\n\\n* Day 7-8: File Input/Output\\n\\t+ Learn about reading and writing files in Python\\n\\t+ Understand how to work with CSV, JSON, and other file formats\\n* Day 9-10: Modules and Packages\\n\\t+ Learn about built-in modules and packages in Python\\n\\t+ Understand how to import and use modules, including third-party libraries\\n* Day 11-12: Object-Oriented Programming (OOP)\\n\\t+ Learn about classes, objects, inheritance, and polymorphism\\n\\t+ Understand how to define and use classes\\n* Project: Weather App\\n\\n**Week 3: Advanced Concepts (1-2 hours/day)**\\n\\n* Day 13-14: Lambda, Map, Filter, and Reduce\\n\\t+ Understand how to use lambda functions, map, filter, and reduce\\n\\t+ Learn about list comprehensions and generator expressions\\n* Day 15-16: Regular Expressions and Web Scraping\\n\\t+ Learn about regular expressions and how to use them in Python\\n\\t+ Understand how to scrape data from websites using BeautifulSoup and Requests\\n* Day 17-18: Working with APIs and JSON\\n\\t+ Learn about APIs, JSON, and how to work with them in Python\\n\\t+ Understand how to make API requests and parse JSON data\\n* Project: Movie Search App using TMDB API\\n\\n**Week 4: Practice and Review (1-2 hours/day)**\\n\\n* Day 19-20: Review and Practice\\n\\t+ Review all the concepts learned in the past three weeks\\n\\t+ Practice exercises and examples\\n* Day 21-22: Work on a Project\\n\\t+ Choose a project idea (e.g., chatbot, game, or web scraper)\\n\\t+ Implement the project using Python\\n* Day 23-24: Review and Refine\\n\\t+ Review your project and refine it\\n\\t+ Get feedback from others and improve your project\\n\\n**Additional Tips**\\n\\n* Practice regularly and consistently\\n* Use online resources such as tutorials, videos, and documentation\\n* Join online communities and forums for support and feedback\\n* Work on projects that interest you and challenge yourself\\n* Review and refine your code regularly\\n\\nRemember, this is just a suggested roadmap, and you should adjust it according to your pace and learning style. Good luck!'"
      ]
     },
     "execution_count": 41,
     "metadata": {},
     "output_type": "execute_result"
    }
   ],
   "source": [
    "query_rag(\"Skip the foundation part as I already know about it\")"
   ]
  }
 ],
 "metadata": {
  "kernelspec": {
   "display_name": "chatbot-CloudLLM",
   "language": "python",
   "name": "python3"
  },
  "language_info": {
   "codemirror_mode": {
    "name": "ipython",
    "version": 3
   },
   "file_extension": ".py",
   "mimetype": "text/x-python",
   "name": "python",
   "nbconvert_exporter": "python",
   "pygments_lexer": "ipython3",
   "version": "3.13.3"
  }
 },
 "nbformat": 4,
 "nbformat_minor": 5
}
